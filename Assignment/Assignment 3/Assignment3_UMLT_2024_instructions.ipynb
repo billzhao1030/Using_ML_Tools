{
 "cells": [
  {
   "cell_type": "markdown",
   "metadata": {},
   "source": [
    "# Using Machine Learning Tools 2024, Assignment 3\n",
    "\n",
    "## Sign Language Image Classification using Deep Learning"
   ]
  },
  {
   "cell_type": "markdown",
   "metadata": {},
   "source": [
    "## Overview\n",
    "\n",
    "In this assignment you will implement different deep learning networks to classify images of hands in poses that correspond to letters in American Sign Language. The dataset is contained in the assignment zip file, along with some images and a text file describing the dataset. It is similar in many ways to other MNIST datasets.\n",
    "\n",
    "The main aims of the assignment are:\n",
    "\n",
    " - To implement and train different types of deep learning network;\n",
    " \n",
    " - To systematically optimise the architecture and parameters of the networks;\n",
    "  \n",
    " - To explore under- or over-fitting and know what appropriate actions to take in these cases.\n",
    " \n",
    "\n",
    "During this assignment you will go through the process of implementing and optimising deep learning approaches. The way that you work is more important than the results for this assignment, as what is most crucial for you to learn is how to take a dataset, understand the problem, write appropriate code, optimize performance and present results. A good understanding of the different aspects of this process and how to put them together well (which will not always be the same, since different problems come with different constraints or difficulties) is the key to being able to effectively use deep learning techniques in practice.\n",
    "\n",
    "This assignment relates to the following ACS CBOK areas: abstraction, design, hardware and software, data and information, and programming.\n"
   ]
  },
  {
   "cell_type": "markdown",
   "metadata": {},
   "source": [
    "## Scenario\n",
    "\n",
    "A client is interested in having you (or rather the company that you work for) investigate whether it is possible to develop an app that would enable American sign language to be translated for people that do not sign, or those that sign in different languages/styles. They have provided you with a labelled dataset of images related to signs (hand positions) that represent individual letters in order to do a preliminary test of feasibility.\n",
    "\n",
    "Your manager has asked you to do this feasibility assessment, but subject to a constraint on the computational facilities available.  More specifically, you are asked to do **no more than 50 training runs in total** (where one training run consists of fitting a DL model, with as many epochs as you think are needed, and with fixed model specifications and fixed hyperparameter settings - that is, not including hyper-parameter optimisation). In addition, because it is intended to be for a lightweight app, your manager wants to to **limit the number of total parameters in each network to a maximum of 500,000.** Also, the data has already been double-checked for problems by an in-house data wrangling team and all erroneous data has already been identified and then fixed by the client, so you **do not need to check for erroneous data** in this case.\n",
    "\n",
    "In addition, you are told to **create a fixed validation set and any necessary test sets using _only_ the supplied _testing_ dataset.** It is unusual to do this, but here the training set contains a lot of non-independent, augmented images and it is important that the validation images must be totally independent of the training data and not made from augmented instances of training images.\n",
    "\n",
    "The clients have asked to be informed about the following:\n",
    " - **unbiased median accuracy** estimate of the letter predictions from a deep learning model\n",
    " - the letter with the highest individual accuracy\n",
    " - the letter with the lowest individual accuracy\n",
    " - the three most common single types of error (i.e. where one letter is being incorrectly labelled as another)\n",
    " \n",
    "Your manager has asked you to create a jupyter notebook that shows the following:\n",
    " - loading the data and displaying a sample of each letter\n",
    " - training and optimising both **densely connected** *and* **CNN** style models\n",
    " - finding the best single model, subject to a rapid turn-around and corresponding limit of 50 training runs in total\n",
    " - reporting clearly and concisely what networks you have tried, the method you used to optimise them, the associated learning curves, the number of total parameters in each, their summary performance and the selection process used to pick the best model\n",
    "     - this should be clear enough that another employee, with your skillset, should be able to take over from you and understand your code and your methods\n",
    " - results from the model that is selected as the best, showing the information that the clients have requested\n",
    " - it is hoped that the median accuracy will exceed 94% overall and better than 85% for every individual letter, and you are asked to report (in addition to the client's requests):\n",
    "     - the overall mean accuracy\n",
    "     - the accuracy for each individual letter\n",
    "     - a short written recommendation (100 words maximum) regarding how likely you think it is to achieve these goals either with the current model or by continuing to do a small amount of model development/optimisation\n"
   ]
  },
  {
   "cell_type": "markdown",
   "metadata": {},
   "source": [
    "## Guide to Assessment\n",
    "\n",
    "This assignment is much more free-form than others in order to test your ability to run a full analysis like this one from beginning to end, using the correct procedures. So you should use a methodical approach, as a large portion of the marks are associated with the decisions that you take and the approach that you use.  There are no marks associated with the performance - just report what you achieve, as high performance does not get better marks - to get good marks you need to use the right steps as well as to create clean, concise code and outputs, just as you've done in other assignments.\n",
    "\n",
    "Make sure that you follow the instructions found in the scenario above, as this is what will be marked.  And be careful to do things in a way that gives you an *unbiased* result.\n",
    "\n",
    "The notebook that you submit should be similar to those in the other assignments, where it is important to clearly structure your outputs and code so that it could be understood by your manager or your co-worker - or, even more importantly, the person marking it! This does not require much writing beyond the code, comments and the small amount of output text that you've seen in previous assignments.  Do not write long paragraphs to explain every detail of everything you do - it is not that kind of report and longer is definitely not better.  Just make your code clear, your outputs easy to understand (very short summaries often help here), and include a few small markdown cells that describe or summarise things when you think they are necessary.\n",
    "\n",
    "Marks for the assignment will be determined according to the rubric that you can find on MyUni, with a breakdown into sections as follows:\n",
    " - 30%: Loading and displaying data, plus initial model training (acting as a baseline)\n",
    " - 50%: Optimisation of an appropriate set of models in an appropriate way (given the imposed constraints)\n",
    " - 20%: Comparison of models, selection of the single best model and reporting of final results\n",
    "\n",
    "Your report (notebook) should be **divided clearly into three sections**, corresponding to the three bullet points listed above.\n",
    "\n",
    "Remember that most marks will be for the **steps you take**, rather than the achievement of any particular results. There will also be marks for showing appropriate understanding of the results that you present.  \n",
    "\n",
    "What you need to do this assignment can all be found in the first 10 weeks of workshops, lectures and also the previous two assignments."
   ]
  },
  {
   "cell_type": "markdown",
   "metadata": {},
   "source": [
    "## Final Instructions\n",
    "\n",
    "While you are free to use whatever IDE you like to develop your code, your submission should be formatted as a Jupyter notebook that interleaves Python code with output, commentary and analysis, and clearly divided into three main sections as described above. \n",
    "- All data processing must be done within the notebook after calling appropriate load functions.\n",
    "- Comment your code appropriately, so that its purpose is clear to the reader, but not so full of comments that it is hard to follow the flow of the code. Also avoid interspersing, in the same cell, code that is run with function definitions as they make code hard to follow.\n",
    "- In the submission file name, do not use spaces or special characters.\n",
    "\n",
    "The marks for this assignment are mainly associated with making the right choices and executing the workflow correctly and efficiently, as well as having clean and concise code and outputs. Make sure your code and outputs are easy to follow and not unnecessarily long. Use of headings and very short summaries can help, and try to avoid lengthy portions of text or plots. The readability of the report (notebook) will count towards the marks (and please note that _excessive_ commenting or text outputs or text in output cells is strongly discouraged and will result in worse grades, so aim for a modest, well-chosen amount of comments and text in outputs).\n",
    "\n",
    "This assignment can be solved using methods from sklearn, pandas, matplotlib, seaborn and keras/tensorflow, as presented in the workshops. Other high-level libraries should not be used, even though they might have nice functionality such as automated hyperparameter or architecture search/tuning/optimisation. For the deep learning parts please restrict yourself to the library calls used in workshops 7-10 or ones that are very similar to these. You are expected to search and carefully read the documentation for functions that you use, to ensure you are using them correctly.\n",
    "\n",
    "As ususal, feel free to use code from internet sources, ChatGPT or the workshops as a base for this assignment, but be aware that they may not do *exactly* what you want (code examples rarely do!) and so you will need to make suitable modifications. Appropriate references for substantial excerpts, even if modified, should be given.\n"
   ]
  },
  {
   "cell_type": "markdown",
   "metadata": {},
   "source": [
    "## 1. Loading and displaying data + initial model training"
   ]
  },
  {
   "cell_type": "markdown",
   "metadata": {},
   "source": [
    "### Loading & displaying data"
   ]
  },
  {
   "cell_type": "code",
   "execution_count": 6,
   "metadata": {},
   "outputs": [],
   "source": [
    "import pandas as pd\n",
    "\n",
    "# Load the dataset\n",
    "train_data = pd.read_csv('sign_mnist_train.csv')\n",
    "test_data = pd.read_csv('sign_mnist_test.csv')"
   ]
  },
  {
   "cell_type": "code",
   "execution_count": 7,
   "metadata": {},
   "outputs": [
    {
     "name": "stdout",
     "output_type": "stream",
     "text": [
      "<class 'pandas.core.frame.DataFrame'>\n",
      "RangeIndex: 27455 entries, 0 to 27454\n",
      "Columns: 1025 entries, label to pixel1024\n",
      "dtypes: int64(1025)\n",
      "memory usage: 214.7 MB\n",
      "None\n"
     ]
    },
    {
     "data": {
      "text/html": [
       "<div>\n",
       "<style scoped>\n",
       "    .dataframe tbody tr th:only-of-type {\n",
       "        vertical-align: middle;\n",
       "    }\n",
       "\n",
       "    .dataframe tbody tr th {\n",
       "        vertical-align: top;\n",
       "    }\n",
       "\n",
       "    .dataframe thead th {\n",
       "        text-align: right;\n",
       "    }\n",
       "</style>\n",
       "<table border=\"1\" class=\"dataframe\">\n",
       "  <thead>\n",
       "    <tr style=\"text-align: right;\">\n",
       "      <th></th>\n",
       "      <th>label</th>\n",
       "      <th>pixel1</th>\n",
       "      <th>pixel2</th>\n",
       "      <th>pixel3</th>\n",
       "      <th>pixel4</th>\n",
       "      <th>pixel5</th>\n",
       "      <th>pixel6</th>\n",
       "      <th>pixel7</th>\n",
       "      <th>pixel8</th>\n",
       "      <th>pixel9</th>\n",
       "      <th>...</th>\n",
       "      <th>pixel1015</th>\n",
       "      <th>pixel1016</th>\n",
       "      <th>pixel1017</th>\n",
       "      <th>pixel1018</th>\n",
       "      <th>pixel1019</th>\n",
       "      <th>pixel1020</th>\n",
       "      <th>pixel1021</th>\n",
       "      <th>pixel1022</th>\n",
       "      <th>pixel1023</th>\n",
       "      <th>pixel1024</th>\n",
       "    </tr>\n",
       "  </thead>\n",
       "  <tbody>\n",
       "    <tr>\n",
       "      <th>0</th>\n",
       "      <td>3</td>\n",
       "      <td>107</td>\n",
       "      <td>118</td>\n",
       "      <td>127</td>\n",
       "      <td>134</td>\n",
       "      <td>139</td>\n",
       "      <td>143</td>\n",
       "      <td>146</td>\n",
       "      <td>150</td>\n",
       "      <td>153</td>\n",
       "      <td>...</td>\n",
       "      <td>207</td>\n",
       "      <td>207</td>\n",
       "      <td>207</td>\n",
       "      <td>207</td>\n",
       "      <td>206</td>\n",
       "      <td>206</td>\n",
       "      <td>206</td>\n",
       "      <td>204</td>\n",
       "      <td>203</td>\n",
       "      <td>202</td>\n",
       "    </tr>\n",
       "    <tr>\n",
       "      <th>1</th>\n",
       "      <td>6</td>\n",
       "      <td>155</td>\n",
       "      <td>157</td>\n",
       "      <td>157</td>\n",
       "      <td>157</td>\n",
       "      <td>157</td>\n",
       "      <td>157</td>\n",
       "      <td>157</td>\n",
       "      <td>158</td>\n",
       "      <td>158</td>\n",
       "      <td>...</td>\n",
       "      <td>149</td>\n",
       "      <td>163</td>\n",
       "      <td>175</td>\n",
       "      <td>175</td>\n",
       "      <td>175</td>\n",
       "      <td>175</td>\n",
       "      <td>175</td>\n",
       "      <td>149</td>\n",
       "      <td>149</td>\n",
       "      <td>149</td>\n",
       "    </tr>\n",
       "    <tr>\n",
       "      <th>2</th>\n",
       "      <td>2</td>\n",
       "      <td>187</td>\n",
       "      <td>188</td>\n",
       "      <td>188</td>\n",
       "      <td>188</td>\n",
       "      <td>188</td>\n",
       "      <td>188</td>\n",
       "      <td>188</td>\n",
       "      <td>188</td>\n",
       "      <td>188</td>\n",
       "      <td>...</td>\n",
       "      <td>202</td>\n",
       "      <td>201</td>\n",
       "      <td>200</td>\n",
       "      <td>199</td>\n",
       "      <td>199</td>\n",
       "      <td>199</td>\n",
       "      <td>198</td>\n",
       "      <td>195</td>\n",
       "      <td>195</td>\n",
       "      <td>195</td>\n",
       "    </tr>\n",
       "    <tr>\n",
       "      <th>3</th>\n",
       "      <td>2</td>\n",
       "      <td>211</td>\n",
       "      <td>211</td>\n",
       "      <td>212</td>\n",
       "      <td>212</td>\n",
       "      <td>212</td>\n",
       "      <td>212</td>\n",
       "      <td>212</td>\n",
       "      <td>212</td>\n",
       "      <td>211</td>\n",
       "      <td>...</td>\n",
       "      <td>235</td>\n",
       "      <td>234</td>\n",
       "      <td>233</td>\n",
       "      <td>231</td>\n",
       "      <td>230</td>\n",
       "      <td>229</td>\n",
       "      <td>229</td>\n",
       "      <td>229</td>\n",
       "      <td>229</td>\n",
       "      <td>163</td>\n",
       "    </tr>\n",
       "    <tr>\n",
       "      <th>4</th>\n",
       "      <td>13</td>\n",
       "      <td>164</td>\n",
       "      <td>167</td>\n",
       "      <td>170</td>\n",
       "      <td>172</td>\n",
       "      <td>176</td>\n",
       "      <td>179</td>\n",
       "      <td>180</td>\n",
       "      <td>184</td>\n",
       "      <td>185</td>\n",
       "      <td>...</td>\n",
       "      <td>133</td>\n",
       "      <td>163</td>\n",
       "      <td>163</td>\n",
       "      <td>163</td>\n",
       "      <td>164</td>\n",
       "      <td>179</td>\n",
       "      <td>179</td>\n",
       "      <td>179</td>\n",
       "      <td>179</td>\n",
       "      <td>179</td>\n",
       "    </tr>\n",
       "  </tbody>\n",
       "</table>\n",
       "<p>5 rows × 1025 columns</p>\n",
       "</div>"
      ],
      "text/plain": [
       "   label  pixel1  pixel2  pixel3  pixel4  pixel5  pixel6  pixel7  pixel8  \\\n",
       "0      3     107     118     127     134     139     143     146     150   \n",
       "1      6     155     157     157     157     157     157     157     158   \n",
       "2      2     187     188     188     188     188     188     188     188   \n",
       "3      2     211     211     212     212     212     212     212     212   \n",
       "4     13     164     167     170     172     176     179     180     184   \n",
       "\n",
       "   pixel9  ...  pixel1015  pixel1016  pixel1017  pixel1018  pixel1019  \\\n",
       "0     153  ...        207        207        207        207        206   \n",
       "1     158  ...        149        163        175        175        175   \n",
       "2     188  ...        202        201        200        199        199   \n",
       "3     211  ...        235        234        233        231        230   \n",
       "4     185  ...        133        163        163        163        164   \n",
       "\n",
       "   pixel1020  pixel1021  pixel1022  pixel1023  pixel1024  \n",
       "0        206        206        204        203        202  \n",
       "1        175        175        149        149        149  \n",
       "2        199        198        195        195        195  \n",
       "3        229        229        229        229        163  \n",
       "4        179        179        179        179        179  \n",
       "\n",
       "[5 rows x 1025 columns]"
      ]
     },
     "execution_count": 7,
     "metadata": {},
     "output_type": "execute_result"
    }
   ],
   "source": [
    "# View basic information of the data\n",
    "print(train_data.info())\n",
    "train_data.head()"
   ]
  },
  {
   "cell_type": "markdown",
   "metadata": {},
   "source": [
    "We can see each row contains 1024 pixels value (32*32 image pixels) and the corresponding label"
   ]
  },
  {
   "cell_type": "code",
   "execution_count": 8,
   "metadata": {},
   "outputs": [
    {
     "data": {
      "text/plain": [
       "array([ 0,  1,  2,  3,  4,  5,  6,  7,  8, 10, 11, 12, 13, 14, 15, 16, 17,\n",
       "       18, 19, 20, 21, 22, 23, 24], dtype=int64)"
      ]
     },
     "execution_count": 8,
     "metadata": {},
     "output_type": "execute_result"
    }
   ],
   "source": [
    "# View the labels of dataset\n",
    "labels = train_data['label'].unique()\n",
    "labels.sort()\n",
    "labels"
   ]
  },
  {
   "cell_type": "markdown",
   "metadata": {},
   "source": [
    "We can see the dataset does not contains 9 and 25 which is 'J' and 'Z', now we display one sample image for each class"
   ]
  },
  {
   "cell_type": "code",
   "execution_count": 9,
   "metadata": {},
   "outputs": [
    {
     "data": {
      "image/png": "[encoded data removed]",
      "text/plain": [
       "<Figure size 1200x1200 with 25 Axes>"
      ]
     },
     "metadata": {},
     "output_type": "display_data"
    }
   ],
   "source": [
    "import matplotlib.pyplot as plt\n",
    "import numpy as np\n",
    "\n",
    "# Extract labels and pixel values\n",
    "train_labels = train_data['label']\n",
    "test_labels = test_data['label']\n",
    "train_images = train_data.drop(columns=['label']).values\n",
    "\n",
    "# Reshape the images from 1D to 2D (32x32)\n",
    "train_images = train_images.reshape(-1, 32, 32)\n",
    "\n",
    "# Display a sample of each letter in the training dataset\n",
    "unique_labels = np.unique(train_labels)\n",
    "fig, axes = plt.subplots(5, 5, figsize=(12, 12))\n",
    "\n",
    "plt.suptitle(\"Sample images for each class in training data\", fontsize=20)\n",
    "\n",
    "for i, label in enumerate(unique_labels):\n",
    "    ax = axes[i // 5, i % 5]\n",
    "    # Find the first image corresponding to the label\n",
    "    img_index = np.where(train_labels == label)[0][0]\n",
    "    ax.imshow(train_images[img_index], cmap='gray')\n",
    "    ax.set_title(chr(label + 65))  # Convert label to corresponding letter\n",
    "    ax.axis('off')\n",
    "\n",
    "# Hide the remaining empty axes\n",
    "for j in range(i + 1, 25):\n",
    "    ax = axes[j // 5, j % 5]\n",
    "    ax.axis('off')\n",
    "\n",
    "plt.tight_layout()\n",
    "plt.show()"
   ]
  },
  {
   "cell_type": "markdown",
   "metadata": {},
   "source": [
    "Here we roughly see the distribution for each class"
   ]
  },
  {
   "cell_type": "code",
   "execution_count": 11,
   "metadata": {},
   "outputs": [
    {
     "data": {
      "image/png": "[encoded data removed]",
      "text/plain": [
       "<Figure size 1000x600 with 1 Axes>"
      ]
     },
     "metadata": {},
     "output_type": "display_data"
    }
   ],
   "source": [
    "import seaborn as sns\n",
    "\n",
    "# Plot the distribution of classes in the training set\n",
    "plt.figure(figsize=(10, 6))\n",
    "sns.countplot(x=train_labels)\n",
    "plt.title('Distribution of Classes in the Training Set')\n",
    "plt.xlabel('Label')\n",
    "plt.ylabel('Count')\n",
    "plt.xticks(ticks=np.arange(0, 24), labels=[chr(i + 65) for i in unique_labels])\n",
    "plt.show()"
   ]
  },
  {
   "cell_type": "markdown",
   "metadata": {},
   "source": [
    "We can see the distribution of each class for the training dataset is quite balanced, all the class has around 1000 to 1200 images, so we don't have to apply any upsampling or downsampling to the training data. Now we can prepare the training and test data."
   ]
  },
  {
   "cell_type": "code",
   "execution_count": 99,
   "metadata": {},
   "outputs": [],
   "source": [
    "# Get labels and images\n",
    "X_train = train_data.iloc[:, 1:].values\n",
    "y_train = train_data.iloc[:, 0].values\n",
    "X_test = test_data.iloc[:, 1:].values\n",
    "y_test = test_data.iloc[:, 0].values"
   ]
  },
  {
   "cell_type": "markdown",
   "metadata": {},
   "source": [
    "Notice that the label 9 and label 25 is missing so here in the data preprocessing I shift the label after 8 to one index smaller. The reason is I will use categorical cross-entropy as the loss function and this loss function requires continuous integers without gap, besides when I encode the label using one-hot encoding, they also need continuous range.\n",
    "\n",
    "There have some other preprocess steps:\n",
    "- reshape the 1024 pixels to 32*32 matrix, so we can treat it as image instead of a seqential of values\n",
    "- normalize the pixel value by /255, since many deep learning models perform better when the input values are small and center around zero, large input can cause issues with numerical stability, leading to problems like exploding or vanishing graidents, which may hinder or slow down the training process.\n",
    "- one hot encoding: although the label we have are already numerical value, but to avoid ordianl relationship. I fwe simply label the class with integers, the model might mistakenly interpret these numbers as having some order or hierarchy. One hot encoding removes the risk by representing each class as a binary vector. Besides, one hot encoding is used to facilitate categorical cross-entropy loss function.\n",
    "\n",
    "After preprocess the data, we need to split the data, since we are told to have a fixed validation data using only supplied test.csv file, we split the data in testing dataset into 50:50 for validation and test to provide independent data and unbiased accuracy later. In addtion, I use stratify when spliting to make sure that both dataset has same distribution of class label."
   ]
  },
  {
   "cell_type": "code",
   "execution_count": 100,
   "metadata": {},
   "outputs": [],
   "source": [
    "from sklearn.model_selection import train_test_split\n",
    "from tensorflow.keras.utils import to_categorical\n",
    "\n",
    "# Define a function for preprocessing\n",
    "def preprocess_data(X, y):\n",
    "    # Adjust labels to be in range 0-23\n",
    "    y = np.array([i if i < 9 else i - 1 for i in y])\n",
    "    \n",
    "    # Reshape images to 32x32x1\n",
    "    X = X.reshape(-1, 32, 32, 1)\n",
    "    \n",
    "    # Normalize pixel values\n",
    "    X = X / 255.0\n",
    "    \n",
    "    # One-hot encode labels\n",
    "    y_enc = to_categorical(y, num_classes=24)\n",
    "    \n",
    "    return X, y_enc\n",
    "\n",
    "# Preprocess training data\n",
    "X_train, y_train = preprocess_data(X_train, y_train)\n",
    "\n",
    "# Preprocess testing data and create validation and final test sets\n",
    "X_test, y_test = preprocess_data(X_test, y_test)\n",
    "X_val, X_test, y_val, y_test = train_test_split(X_test, y_test, stratify=y_test, test_size=0.5, random_state=42)"
   ]
  },
  {
   "cell_type": "markdown",
   "metadata": {},
   "source": [
    "### Training baseline model"
   ]
  },
  {
   "cell_type": "markdown",
   "metadata": {},
   "source": [
    "Now we have our dataset ready to use, we can train both densely connected and CNN model as the baseline models.\n",
    "\n",
    "But before that, I implement a function that can set the random seed so we can reproduce the same result every time we run."
   ]
  },
  {
   "cell_type": "code",
   "execution_count": 101,
   "metadata": {},
   "outputs": [],
   "source": [
    "import random\n",
    "import tensorflow as tf\n",
    "\n",
    "def set_seed(seed=42):\n",
    "    random.seed(seed)\n",
    "    np.random.seed(seed)\n",
    "    tf.random.set_seed(seed)\n",
    "    tf.config.experimental.enable_op_determinism()\n",
    "\n",
    "set_seed(42)"
   ]
  },
  {
   "cell_type": "code",
   "execution_count": 102,
   "metadata": {},
   "outputs": [
    {
     "name": "stdout",
     "output_type": "stream",
     "text": [
      "Model: \"MLP_base\"\n",
      "_________________________________________________________________\n",
      " Layer (type)                Output Shape              Param #   \n",
      "=================================================================\n",
      " flatten_1 (Flatten)         (None, 1024)              0         \n",
      "                                                                 \n",
      " dense_1 (Dense)             (None, 256)               262400    \n",
      "                                                                 \n",
      " dense_2 (Dense)             (None, 24)                6168      \n",
      "                                                                 \n",
      "=================================================================\n",
      "Total params: 268568 (1.02 MB)\n",
      "Trainable params: 268568 (1.02 MB)\n",
      "Non-trainable params: 0 (0.00 Byte)\n",
      "_________________________________________________________________\n"
     ]
    }
   ],
   "source": [
    "from tensorflow.keras.models import Sequential\n",
    "from tensorflow.keras.layers import Dense, Flatten\n",
    "\n",
    "# Define the densely connected base model\n",
    "dense_base = Sequential([\n",
    "    Flatten(input_shape=(32, 32, 1), name='flatten_1'),\n",
    "    Dense(256, activation='relu', name='dense_1'),\n",
    "    Dense(24, activation='softmax', name='dense_2')\n",
    "], name='MLP_base')\n",
    "\n",
    "dense_base.summary()"
   ]
  },
  {
   "cell_type": "code",
   "execution_count": 103,
   "metadata": {},
   "outputs": [
    {
     "name": "stdout",
     "output_type": "stream",
     "text": [
      "Epoch 1/20\n",
      "858/858 [==============================] - 5s 5ms/step - loss: 2.1782 - accuracy: 0.3399 - val_loss: 1.7486 - val_accuracy: 0.4445\n",
      "Epoch 2/20\n",
      "858/858 [==============================] - 4s 5ms/step - loss: 1.2882 - accuracy: 0.5931 - val_loss: 1.4166 - val_accuracy: 0.5463\n",
      "Epoch 3/20\n",
      "858/858 [==============================] - 4s 5ms/step - loss: 0.9562 - accuracy: 0.6991 - val_loss: 1.2012 - val_accuracy: 0.6221\n",
      "Epoch 4/20\n",
      "858/858 [==============================] - 4s 5ms/step - loss: 0.7597 - accuracy: 0.7585 - val_loss: 1.1029 - val_accuracy: 0.6584\n",
      "Epoch 5/20\n",
      "858/858 [==============================] - 4s 5ms/step - loss: 0.6201 - accuracy: 0.8012 - val_loss: 1.1319 - val_accuracy: 0.6511\n",
      "Epoch 6/20\n",
      "858/858 [==============================] - 4s 5ms/step - loss: 0.5111 - accuracy: 0.8359 - val_loss: 0.9913 - val_accuracy: 0.6907\n",
      "Epoch 7/20\n",
      "858/858 [==============================] - 4s 5ms/step - loss: 0.4293 - accuracy: 0.8610 - val_loss: 1.1053 - val_accuracy: 0.6746\n",
      "Epoch 8/20\n",
      "858/858 [==============================] - 4s 5ms/step - loss: 0.3592 - accuracy: 0.8827 - val_loss: 0.9758 - val_accuracy: 0.7158\n",
      "Epoch 9/20\n",
      "858/858 [==============================] - 4s 4ms/step - loss: 0.3036 - accuracy: 0.9001 - val_loss: 0.9906 - val_accuracy: 0.7072\n",
      "Epoch 10/20\n",
      "858/858 [==============================] - 4s 4ms/step - loss: 0.2654 - accuracy: 0.9127 - val_loss: 1.0658 - val_accuracy: 0.7117\n",
      "Epoch 11/20\n",
      "858/858 [==============================] - 4s 4ms/step - loss: 0.2252 - accuracy: 0.9276 - val_loss: 1.2451 - val_accuracy: 0.6891\n",
      "Epoch 12/20\n",
      "858/858 [==============================] - 4s 4ms/step - loss: 0.2014 - accuracy: 0.9356 - val_loss: 1.1334 - val_accuracy: 0.6941\n",
      "Epoch 13/20\n",
      "858/858 [==============================] - 4s 4ms/step - loss: 0.1751 - accuracy: 0.9439 - val_loss: 0.9987 - val_accuracy: 0.7487\n",
      "Epoch 14/20\n",
      "858/858 [==============================] - 4s 4ms/step - loss: 0.1600 - accuracy: 0.9502 - val_loss: 1.3071 - val_accuracy: 0.6843\n",
      "Epoch 15/20\n",
      "858/858 [==============================] - 4s 4ms/step - loss: 0.1421 - accuracy: 0.9567 - val_loss: 1.8798 - val_accuracy: 0.6428\n",
      "Epoch 16/20\n",
      "858/858 [==============================] - 4s 5ms/step - loss: 0.1298 - accuracy: 0.9607 - val_loss: 1.2673 - val_accuracy: 0.7125\n",
      "Epoch 17/20\n",
      "858/858 [==============================] - 4s 4ms/step - loss: 0.1168 - accuracy: 0.9662 - val_loss: 1.1267 - val_accuracy: 0.7538\n",
      "Epoch 18/20\n",
      "858/858 [==============================] - 4s 5ms/step - loss: 0.1095 - accuracy: 0.9669 - val_loss: 1.1498 - val_accuracy: 0.7554\n",
      "Epoch 19/20\n",
      "858/858 [==============================] - 4s 4ms/step - loss: 0.1037 - accuracy: 0.9706 - val_loss: 1.1467 - val_accuracy: 0.7468\n",
      "Epoch 20/20\n",
      "858/858 [==============================] - 4s 4ms/step - loss: 0.1027 - accuracy: 0.9724 - val_loss: 1.2441 - val_accuracy: 0.7493\n"
     ]
    }
   ],
   "source": [
    "# Compile the model\n",
    "set_seed(42)\n",
    "dense_base.compile(loss='categorical_crossentropy', metrics=['accuracy'])\n",
    "\n",
    "# Train the MLP base model\n",
    "history_dense = dense_base.fit(X_train, y_train, epochs=20, validation_data=(X_val, y_val))"
   ]
  },
  {
   "cell_type": "code",
   "execution_count": 104,
   "metadata": {},
   "outputs": [
    {
     "name": "stdout",
     "output_type": "stream",
     "text": [
      "Model: \"CNN_base\"\n",
      "_________________________________________________________________\n",
      " Layer (type)                Output Shape              Param #   \n",
      "=================================================================\n",
      " conv_1 (Conv2D)             (None, 30, 30, 16)        160       \n",
      "                                                                 \n",
      " max_pool_1 (MaxPooling2D)   (None, 15, 15, 16)        0         \n",
      "                                                                 \n",
      " conv_2 (Conv2D)             (None, 13, 13, 16)        2320      \n",
      "                                                                 \n",
      " max_pool_2 (MaxPooling2D)   (None, 6, 6, 16)          0         \n",
      "                                                                 \n",
      " flatten_1 (Flatten)         (None, 576)               0         \n",
      "                                                                 \n",
      " dense_1 (Dense)             (None, 64)                36928     \n",
      "                                                                 \n",
      " dense_2 (Dense)             (None, 24)                1560      \n",
      "                                                                 \n",
      "=================================================================\n",
      "Total params: 40968 (160.03 KB)\n",
      "Trainable params: 40968 (160.03 KB)\n",
      "Non-trainable params: 0 (0.00 Byte)\n",
      "_________________________________________________________________\n"
     ]
    }
   ],
   "source": [
    "from tensorflow.keras.layers import Conv2D, MaxPooling2D, Flatten\n",
    "\n",
    "# Define the CNN base model\n",
    "cnn_base = Sequential([\n",
    "    Conv2D(16, (3, 3), activation='relu', input_shape=(32, 32, 1), name='conv_1'),\n",
    "    MaxPooling2D((2, 2), name='max_pool_1'),\n",
    "    Conv2D(16, (3, 3), activation='relu', name='conv_2'),\n",
    "    MaxPooling2D((2, 2), name='max_pool_2'),\n",
    "    Flatten(name='flatten_1'),\n",
    "    Dense(64, activation='relu', name='dense_1'),\n",
    "    Dense(24, activation='softmax', name='dense_2')\n",
    "], name='CNN_base')\n",
    "\n",
    "cnn_base.summary()"
   ]
  },
  {
   "cell_type": "code",
   "execution_count": 105,
   "metadata": {},
   "outputs": [
    {
     "name": "stdout",
     "output_type": "stream",
     "text": [
      "Epoch 1/20\n",
      "858/858 [==============================] - 9s 10ms/step - loss: 1.3669 - accuracy: 0.6035 - val_loss: 0.6843 - val_accuracy: 0.7554\n",
      "Epoch 2/20\n",
      "858/858 [==============================] - 8s 9ms/step - loss: 0.1782 - accuracy: 0.9487 - val_loss: 0.4189 - val_accuracy: 0.8625\n",
      "Epoch 3/20\n",
      "858/858 [==============================] - 8s 10ms/step - loss: 0.0297 - accuracy: 0.9929 - val_loss: 0.4881 - val_accuracy: 0.8762\n",
      "Epoch 4/20\n",
      "858/858 [==============================] - 9s 10ms/step - loss: 0.0102 - accuracy: 0.9977 - val_loss: 0.4467 - val_accuracy: 0.8879\n",
      "Epoch 5/20\n",
      "858/858 [==============================] - 9s 10ms/step - loss: 0.0052 - accuracy: 0.9987 - val_loss: 0.4666 - val_accuracy: 0.8985\n",
      "Epoch 6/20\n",
      "858/858 [==============================] - 9s 10ms/step - loss: 0.0035 - accuracy: 0.9991 - val_loss: 0.4949 - val_accuracy: 0.9077\n",
      "Epoch 7/20\n",
      "858/858 [==============================] - 8s 10ms/step - loss: 0.0050 - accuracy: 0.9990 - val_loss: 0.5512 - val_accuracy: 0.9088\n",
      "Epoch 8/20\n",
      "858/858 [==============================] - 8s 10ms/step - loss: 0.0013 - accuracy: 0.9996 - val_loss: 0.6947 - val_accuracy: 0.8798\n",
      "Epoch 9/20\n",
      "858/858 [==============================] - 8s 10ms/step - loss: 3.5749e-04 - accuracy: 0.9998 - val_loss: 0.5997 - val_accuracy: 0.9049\n",
      "Epoch 10/20\n",
      "858/858 [==============================] - 8s 10ms/step - loss: 6.3434e-06 - accuracy: 1.0000 - val_loss: 0.6249 - val_accuracy: 0.9077\n",
      "Epoch 11/20\n",
      "858/858 [==============================] - 8s 10ms/step - loss: 3.8140e-06 - accuracy: 1.0000 - val_loss: 0.6035 - val_accuracy: 0.9071\n",
      "Epoch 12/20\n",
      "858/858 [==============================] - 9s 11ms/step - loss: 2.6450e-06 - accuracy: 1.0000 - val_loss: 0.6041 - val_accuracy: 0.9085\n",
      "Epoch 13/20\n",
      "858/858 [==============================] - 9s 11ms/step - loss: 2.2197e-06 - accuracy: 1.0000 - val_loss: 0.6065 - val_accuracy: 0.9091\n",
      "Epoch 14/20\n",
      "858/858 [==============================] - 9s 10ms/step - loss: 1.9292e-06 - accuracy: 1.0000 - val_loss: 0.6189 - val_accuracy: 0.9096\n",
      "Epoch 15/20\n",
      "858/858 [==============================] - 9s 10ms/step - loss: 1.7159e-06 - accuracy: 1.0000 - val_loss: 0.6212 - val_accuracy: 0.9080\n",
      "Epoch 16/20\n",
      "858/858 [==============================] - 10s 11ms/step - loss: 1.5235e-06 - accuracy: 1.0000 - val_loss: 0.6205 - val_accuracy: 0.9099\n",
      "Epoch 17/20\n",
      "858/858 [==============================] - 9s 11ms/step - loss: 1.3958e-06 - accuracy: 1.0000 - val_loss: 0.6259 - val_accuracy: 0.9110\n",
      "Epoch 18/20\n",
      "858/858 [==============================] - 9s 11ms/step - loss: 1.2791e-06 - accuracy: 1.0000 - val_loss: 0.6229 - val_accuracy: 0.9108\n",
      "Epoch 19/20\n",
      "858/858 [==============================] - 9s 10ms/step - loss: 1.1758e-06 - accuracy: 1.0000 - val_loss: 0.6291 - val_accuracy: 0.9122\n",
      "Epoch 20/20\n",
      "858/858 [==============================] - 8s 10ms/step - loss: 1.0858e-06 - accuracy: 1.0000 - val_loss: 0.6267 - val_accuracy: 0.9108\n"
     ]
    }
   ],
   "source": [
    "# Compile the model\n",
    "set_seed(42)\n",
    "cnn_base.compile(loss='categorical_crossentropy', metrics=['accuracy'])\n",
    "\n",
    "# Train the model\n",
    "history_cnn = cnn_base.fit(X_train, y_train, epochs=20, validation_data=(X_val, y_val))"
   ]
  },
  {
   "cell_type": "markdown",
   "metadata": {},
   "source": [
    "Here we define a fucntion that record and report the following metrics:\n",
    "- validation accuracy\n",
    "- unbiased median accuracy\n",
    "- overall mean accuracy\n",
    "- letters with highest/lowest accuracy\n",
    "- individual accuracy for each letter\n",
    "- most common errors the model made"
   ]
  },
  {
   "cell_type": "code",
   "execution_count": 106,
   "metadata": {},
   "outputs": [],
   "source": [
    "from sklearn.metrics import confusion_matrix\n",
    "\n",
    "def accuracy_per_class(y_true, y_pred):\n",
    "    accuracies = []\n",
    "    for i in range(24):\n",
    "        if np.sum(y_true == i) > 0:\n",
    "            accuracies.append(np.mean(y_pred[y_true == i] == i))\n",
    "        else:\n",
    "            print(\"nan\")\n",
    "            accuracies.append(np.nan) # Handle classes with no samples\n",
    "\n",
    "    # Filter out NaN values to calculate the median accuracy\n",
    "    accuracies = [acc for acc in accuracies if not np.isnan(acc)]\n",
    "\n",
    "    return accuracies\n",
    "\n",
    "def max_min_accuracy(accuracies):\n",
    "    # Identify the letters with the highest/lowest individual accuracy\n",
    "    max_accuracy = np.nanmax(accuracies)\n",
    "    min_accuracy = np.nanmin(accuracies)\n",
    "\n",
    "    # Find all classes with the highest accuracy\n",
    "    highest_accuracy_classes = np.where(accuracies == max_accuracy)[0]\n",
    "    highest_accuracy_letters = [chr(i + ord('A') + (1 if i >= 9 else 0)) for i in highest_accuracy_classes]\n",
    "\n",
    "    # Find all classes with the lowest accuracy\n",
    "    lowest_accuracy_classes = np.where(accuracies == min_accuracy)[0]\n",
    "    lowest_accuracy_letters = [chr(i + ord('A') + (1 if i >= 9 else 0)) for i in lowest_accuracy_classes]\n",
    "\n",
    "    # Print the results\n",
    "    print(f\"Letters with Highest Accuracy: {', '.join(highest_accuracy_letters)}\")\n",
    "    print(f\"Letters with Lowest Accuracy: {', '.join(lowest_accuracy_letters)}\\n\")\n",
    "\n",
    "def most_common_errors(y_true, y_pred):\n",
    "    # Calculate the confusion matrix\n",
    "    conf_matrix = confusion_matrix(y_true, y_pred)\n",
    "\n",
    "    # Set diagonal to zero to exclude correct classifications\n",
    "    np.fill_diagonal(conf_matrix, 0)\n",
    "\n",
    "    # Flatten confusion matrix and sort indices by error count in descending order\n",
    "    flat_conf_matrix = conf_matrix.flatten()\n",
    "    sorted_indices = np.argsort(-flat_conf_matrix)\n",
    "\n",
    "    # Get top non-zero errors\n",
    "    top_errors_indices = sorted_indices[flat_conf_matrix[sorted_indices] > 0][:3]\n",
    "    top_errors = flat_conf_matrix[top_errors_indices]\n",
    "    top_positions = np.unravel_index(top_errors_indices, conf_matrix.shape)\n",
    "\n",
    "    # Adjust for missing 'J' and convert indices to letters\n",
    "    def index_to_letter(idx):\n",
    "        return chr(idx + ord('A') + 1) if idx >= 9 else chr(idx + ord('A'))\n",
    "\n",
    "    # Print top errors\n",
    "    if top_errors.size == 0:\n",
    "        print(\"No errors detected, the model is perfect\")\n",
    "    else:\n",
    "        print(\"Top errors:\")\n",
    "        for i in range(len(top_errors)):\n",
    "            print(f\"* Predict {index_to_letter(top_positions[0][i])} as {index_to_letter(top_positions[1][i])}\")\n",
    "        if len(top_errors) < 3:\n",
    "            print(f\"Only {len(top_errors)} errors detected\\n\")\n",
    "\n",
    "def evaluate_model(model_name, model, X_val, y_val):\n",
    "    model_evaluation = model.evaluate(X_val, y_val, verbose = 0)\n",
    "    print(f\"{model_name} model:\\n\\nValidation Accuracy: {model_evaluation[1]:.4f}\")\n",
    "\n",
    "    # More evaluation of the model\n",
    "    y_pred = np.argmax(model.predict(X_val, verbose = 0), axis=1) # calculate y_pred\n",
    "    y_true = np.argmax(y_val, axis=1) # calculate the ground truth\n",
    "\n",
    "    # Get the accuracy list\n",
    "    accuracies = accuracy_per_class(y_true, y_pred)\n",
    "\n",
    "    # Show unbiased median accuracy\n",
    "    median_accuracy = np.median(accuracies)\n",
    "    print(f\"Unbiased Median Accuracy: {median_accuracy:.4f}\\n\")\n",
    "\n",
    "    # Show letter with max and min accuracy\n",
    "    max_min_accuracy(accuracies)\n",
    "\n",
    "    # Show most common errors\n",
    "    most_common_errors(y_true, y_pred)\n",
    "\n",
    "    # Show accuracy for each individual letter\n",
    "    mean_accuracy = np.nanmean(accuracies)\n",
    "    print(f\"Overall Mean Accuracy: {mean_accuracy:.4f}\\n\")\n",
    "\n",
    "    # Print each letter and its accuracy\n",
    "    letters = [chr(i + ord('A')) for i in range(26) if i not in [9, 25]]\n",
    "    for i, acc in enumerate(accuracies):\n",
    "        print(f\"Letter {letters[i]}: Accuracy {acc:.4f}\")\n"
   ]
  },
  {
   "cell_type": "code",
   "execution_count": 107,
   "metadata": {},
   "outputs": [
    {
     "name": "stdout",
     "output_type": "stream",
     "text": [
      "Densely connected base model:\n",
      "\n",
      "Validation Accuracy: 0.7493\n",
      "Unbiased Median Accuracy: 0.7604\n",
      "\n",
      "Letters with Highest Accuracy: A, P\n",
      "Letters with Lowest Accuracy: S\n",
      "\n",
      "Top errors:\n",
      "* Predict K as R\n",
      "* Predict M as S\n",
      "* Predict V as R\n",
      "Overall Mean Accuracy: 0.7373\n",
      "\n",
      "Letter A: Accuracy 1.0000\n",
      "Letter B: Accuracy 0.9074\n",
      "Letter C: Accuracy 0.9226\n",
      "Letter D: Accuracy 0.9426\n",
      "Letter E: Accuracy 0.9197\n",
      "Letter F: Accuracy 0.8952\n",
      "Letter G: Accuracy 0.8966\n",
      "Letter H: Accuracy 0.8991\n",
      "Letter I: Accuracy 0.7708\n",
      "Letter K: Accuracy 0.5091\n",
      "Letter L: Accuracy 0.9231\n",
      "Letter M: Accuracy 0.6497\n",
      "Letter N: Accuracy 0.5448\n",
      "Letter O: Accuracy 0.5610\n",
      "Letter P: Accuracy 1.0000\n",
      "Letter Q: Accuracy 0.8171\n",
      "Letter R: Accuracy 0.7500\n",
      "Letter S: Accuracy 0.3902\n",
      "Letter T: Accuracy 0.5403\n",
      "Letter U: Accuracy 0.4361\n",
      "Letter V: Accuracy 0.4740\n",
      "Letter W: Accuracy 0.6990\n",
      "Letter X: Accuracy 0.6493\n",
      "Letter Y: Accuracy 0.5964\n"
     ]
    }
   ],
   "source": [
    "evaluate_model(\"Densely connected base\",dense_base, X_val, y_val)"
   ]
  },
  {
   "cell_type": "code",
   "execution_count": 108,
   "metadata": {},
   "outputs": [
    {
     "name": "stdout",
     "output_type": "stream",
     "text": [
      "CNN base model:\n",
      "\n",
      "Validation Accuracy: 0.9108\n",
      "Unbiased Median Accuracy: 0.9365\n",
      "\n",
      "Letters with Highest Accuracy: A, B, F, L, P, W, X\n",
      "Letters with Lowest Accuracy: T\n",
      "\n",
      "Top errors:\n",
      "* Predict H as G\n",
      "* Predict T as X\n",
      "* Predict U as D\n",
      "Overall Mean Accuracy: 0.9065\n",
      "\n",
      "Letter A: Accuracy 1.0000\n",
      "Letter B: Accuracy 1.0000\n",
      "Letter C: Accuracy 0.9419\n",
      "Letter D: Accuracy 0.9590\n",
      "Letter E: Accuracy 0.9558\n",
      "Letter F: Accuracy 1.0000\n",
      "Letter G: Accuracy 0.9310\n",
      "Letter H: Accuracy 0.8624\n",
      "Letter I: Accuracy 0.8403\n",
      "Letter K: Accuracy 0.9455\n",
      "Letter L: Accuracy 1.0000\n",
      "Letter M: Accuracy 0.8071\n",
      "Letter N: Accuracy 0.7862\n",
      "Letter O: Accuracy 0.9024\n",
      "Letter P: Accuracy 1.0000\n",
      "Letter Q: Accuracy 0.8171\n",
      "Letter R: Accuracy 0.8472\n",
      "Letter S: Accuracy 0.8943\n",
      "Letter T: Accuracy 0.6129\n",
      "Letter U: Accuracy 0.8346\n",
      "Letter V: Accuracy 0.8671\n",
      "Letter W: Accuracy 1.0000\n",
      "Letter X: Accuracy 1.0000\n",
      "Letter Y: Accuracy 0.9518\n"
     ]
    }
   ],
   "source": [
    "evaluate_model(\"CNN base\",cnn_base, X_val, y_val)"
   ]
  },
  {
   "cell_type": "markdown",
   "metadata": {},
   "source": [
    "TODO: comment on base model"
   ]
  },
  {
   "cell_type": "markdown",
   "metadata": {},
   "source": [
    "## 2. Optimization of both base models"
   ]
  },
  {
   "cell_type": "markdown",
   "metadata": {},
   "source": [
    "### Optimize densely connected model"
   ]
  },
  {
   "cell_type": "markdown",
   "metadata": {},
   "source": [
    "#### Try data augmentation + early stop"
   ]
  },
  {
   "cell_type": "code",
   "execution_count": null,
   "metadata": {},
   "outputs": [],
   "source": [
    "from tensorflow.keras.preprocessing.image import ImageDataGenerator\n",
    "\n",
    "# Define a custom data augmentation function\n",
    "def custom_augment(image):\n",
    "    image = tf.image.random_brightness(image, max_delta=0.2)  # Adjust brightness\n",
    "    image = tf.image.random_contrast(image, lower=0.5, upper=1.5)  # Adjust contrast\n",
    "    image = tf.image.random_flip_left_right(image)  # Flip horizontally\n",
    "    image = tf.image.random_flip_up_down(image)  # Flip vertically\n",
    "    image = tf.image.random_zoom(image, (0.8, 1.2))  # Random zoom\n",
    "    image = tf.image.random_crop(image, size=[height, width, channels])  # Random crop\n",
    "    return image\n",
    "\n",
    "# Define the data augmentation generator with TensorFlow functions\n",
    "datagen = ImageDataGenerator(\n",
    "    preprocessing_function = custom_augment\n",
    ")"
   ]
  },
  {
   "cell_type": "code",
   "execution_count": null,
   "metadata": {},
   "outputs": [],
   "source": []
  },
  {
   "cell_type": "markdown",
   "metadata": {},
   "source": [
    "TODO: explain why data aug and early stop"
   ]
  },
  {
   "cell_type": "markdown",
   "metadata": {},
   "source": [
    "### Optimize CNN model"
   ]
  },
  {
   "cell_type": "code",
   "execution_count": null,
   "metadata": {},
   "outputs": [],
   "source": []
  },
  {
   "cell_type": "markdown",
   "metadata": {},
   "source": [
    "## 3. Comparison, selection of best model & report final results"
   ]
  },
  {
   "cell_type": "code",
   "execution_count": null,
   "metadata": {},
   "outputs": [],
   "source": []
  }
 ],
 "metadata": {
  "kernelspec": {
   "display_name": "Python 3 (ipykernel)",
   "language": "python",
   "name": "python3"
  },
  "language_info": {
   "codemirror_mode": {
    "name": "ipython",
    "version": 3
   },
   "file_extension": ".py",
   "mimetype": "text/x-python",
   "name": "python",
   "nbconvert_exporter": "python",
   "pygments_lexer": "ipython3",
   "version": "3.11.4"
  }
 },
 "nbformat": 4,
 "nbformat_minor": 4
}
